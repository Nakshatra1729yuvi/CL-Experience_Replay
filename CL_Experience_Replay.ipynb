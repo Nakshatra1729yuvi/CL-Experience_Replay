{
  "nbformat": 4,
  "nbformat_minor": 0,
  "metadata": {
    "colab": {
      "provenance": [],
      "gpuType": "T4"
    },
    "kernelspec": {
      "name": "python3",
      "display_name": "Python 3"
    },
    "language_info": {
      "name": "python"
    },
    "accelerator": "GPU"
  },
  "cells": [
    {
      "cell_type": "code",
      "execution_count": 19,
      "metadata": {
        "id": "mVka1wydEqtY"
      },
      "outputs": [],
      "source": [
        "import torch\n",
        "import torch.nn as nn\n",
        "import torch.nn.functional as F\n",
        "from torchvision import datasets, transforms\n",
        "from torch.utils.data import DataLoader\n",
        "from tqdm import tqdm\n",
        "import random\n",
        "# --------------------------------------------------------------\n",
        "# Config\n",
        "# --------------------------------------------------------------\n",
        "BATCH_SIZE = 512\n",
        "\n",
        "device=torch.device(\"cuda\" if torch.cuda.is_available() else \"cpu\")\n",
        "\n",
        "# --------------------------------------------------------------\n",
        "# Dataset + Masking Module\n",
        "# --------------------------------------------------------------\n",
        "transform = transforms.Compose([\n",
        "    transforms.ToTensor(),\n",
        "])\n",
        "\n"
      ]
    },
    {
      "cell_type": "code",
      "source": [
        "train_data = datasets.FashionMNIST(root=\"./data\", train=True, download=True, transform=transform)\n",
        "train_loader = DataLoader(train_data, batch_size=BATCH_SIZE, shuffle=True)\n",
        "test_data = datasets.FashionMNIST(root=\"./data\", train=False, download=True, transform=transform)\n",
        "test_loader = DataLoader(test_data, batch_size=BATCH_SIZE, shuffle=True)\n"
      ],
      "metadata": {
        "id": "G4o3nv99GrMf"
      },
      "execution_count": 20,
      "outputs": []
    },
    {
      "cell_type": "code",
      "source": [
        "train_data2 = datasets.MNIST(root=\"./data\", train=True, download=True, transform=transform)\n",
        "train_loader2 = DataLoader(train_data2, batch_size=BATCH_SIZE, shuffle=True)\n",
        "test_data2 = datasets.MNIST(root=\"./data\", train=False, download=True, transform=transform)\n",
        "test_loader2 = DataLoader(test_data2, batch_size=BATCH_SIZE, shuffle=True)\n"
      ],
      "metadata": {
        "id": "Csel551pGstx"
      },
      "execution_count": 21,
      "outputs": []
    },
    {
      "cell_type": "code",
      "source": [
        "memory_buffer=[]\n",
        "Memory_size=10000\n",
        "def update_memory(x,y):\n",
        "  for xi,yi in zip(x,y):\n",
        "    if len(memory_buffer)<Memory_size:\n",
        "      memory_buffer.append((xi.cpu(),yi.cpu()))\n",
        "    else:\n",
        "      idx=random.randint(0,Memory_size-1)\n",
        "      memory_buffer[idx]=(xi.cpu(),yi.cpu())\n",
        "\n",
        "def sample_memory(batch_size,device):\n",
        "  if len(memory_buffer)==0:\n",
        "    return None,None\n",
        "  else:\n",
        "    batch=random.sample(memory_buffer,min(len(memory_buffer),Memory_size))\n",
        "    x_sample,y_sample=zip(*batch)\n",
        "    return torch.stack(x_sample).to(device),torch.stack(y_sample).to(device)"
      ],
      "metadata": {
        "id": "-TlZfGKeIz3K"
      },
      "execution_count": 22,
      "outputs": []
    },
    {
      "cell_type": "code",
      "source": [
        "class SimpleCNN(nn.Module):\n",
        "  def __init__(self,dim,out_feat):\n",
        "    super().__init__()\n",
        "    self.net=nn.Sequential(\n",
        "        nn.Conv2d(1,32,kernel_size=3,stride=2,padding=1),\n",
        "        nn.ReLU(),\n",
        "        nn.Conv2d(32,64,kernel_size=3,stride=2,padding=1),\n",
        "        nn.ReLU(),\n",
        "        nn.Flatten(),\n",
        "        nn.Linear(64*7*7,dim),\n",
        "        nn.ReLU(),\n",
        "        nn.Linear(dim,out_feat)\n",
        "    )\n",
        "  def forward(self,x):\n",
        "    return self.net(x)"
      ],
      "metadata": {
        "id": "JjXSUCt3GwZy"
      },
      "execution_count": 23,
      "outputs": []
    },
    {
      "cell_type": "code",
      "source": [
        "model=SimpleCNN(dim=768,out_feat=10).to(device)\n",
        "opt=torch.optim.Adam(model.parameters(),lr=1e-3)\n",
        "crit=nn.CrossEntropyLoss()"
      ],
      "metadata": {
        "id": "53BWZW3KG0Qf"
      },
      "execution_count": 24,
      "outputs": []
    },
    {
      "cell_type": "code",
      "source": [
        "def train_model(loader,epochs,update_mem):\n",
        "  for epoch in range(epochs):\n",
        "    for x,y in tqdm(loader):\n",
        "      x,y=x.to(device),y.to(device)\n",
        "      x_m,y_m=sample_memory(20,device)\n",
        "      if x_m is not None:\n",
        "        x_b,y_b=torch.concat([x,x_m]),torch.concat([y,y_m])\n",
        "      else:\n",
        "        x_b,y_b=x,y\n",
        "      loss=crit(model(x_b),y_b)\n",
        "      opt.zero_grad()\n",
        "      loss.backward()\n",
        "      opt.step()\n",
        "\n",
        "      if update_mem:\n",
        "        update_memory(x,y)"
      ],
      "metadata": {
        "id": "K5G-WSEnP6qx"
      },
      "execution_count": 25,
      "outputs": []
    },
    {
      "cell_type": "code",
      "source": [
        "train_model(train_loader,2,True)"
      ],
      "metadata": {
        "colab": {
          "base_uri": "https://localhost:8080/"
        },
        "id": "Inx7GHUjG2IH",
        "outputId": "18624748-a487-4f8e-bd3c-ff8eae25a731"
      },
      "execution_count": 26,
      "outputs": [
        {
          "output_type": "stream",
          "name": "stderr",
          "text": [
            "100%|██████████| 118/118 [00:22<00:00,  5.23it/s]\n",
            "100%|██████████| 118/118 [00:23<00:00,  5.03it/s]\n"
          ]
        }
      ]
    },
    {
      "cell_type": "code",
      "source": [
        "train_model(train_loader2,2,False)"
      ],
      "metadata": {
        "colab": {
          "base_uri": "https://localhost:8080/"
        },
        "id": "knTQcJQSSzBV",
        "outputId": "3b0a0a61-e38c-4eed-9257-41d251070f72"
      },
      "execution_count": 27,
      "outputs": [
        {
          "output_type": "stream",
          "name": "stderr",
          "text": [
            "100%|██████████| 118/118 [00:14<00:00,  8.22it/s]\n",
            "100%|██████████| 118/118 [00:14<00:00,  8.04it/s]\n"
          ]
        }
      ]
    },
    {
      "cell_type": "code",
      "source": [
        "def validation(loader):\n",
        "  total=0\n",
        "  correct=0\n",
        "  for x,y in loader:\n",
        "    x,y=x.to(device),y.to(device)\n",
        "    preds=model(x)\n",
        "    score=torch.argmax(preds,dim=1)\n",
        "    correct+=(score==y).sum().item()\n",
        "    total+=len(y)\n",
        "  return correct*100/total\n"
      ],
      "metadata": {
        "id": "YHLBto9yG4gy"
      },
      "execution_count": 28,
      "outputs": []
    },
    {
      "cell_type": "code",
      "source": [
        "acc=validation(test_loader)\n",
        "acc"
      ],
      "metadata": {
        "colab": {
          "base_uri": "https://localhost:8080/"
        },
        "id": "e5iN8LDyG6SX",
        "outputId": "61e170c7-2531-42b7-8b41-0230d9e6bb18"
      },
      "execution_count": 29,
      "outputs": [
        {
          "output_type": "execute_result",
          "data": {
            "text/plain": [
              "87.68"
            ]
          },
          "metadata": {},
          "execution_count": 29
        }
      ]
    },
    {
      "cell_type": "code",
      "source": [
        "acc=validation(test_loader2)\n",
        "acc"
      ],
      "metadata": {
        "colab": {
          "base_uri": "https://localhost:8080/"
        },
        "id": "tPT3_0a8S3dd",
        "outputId": "330a52ca-34ee-4ebc-8d90-aa98744fa7c4"
      },
      "execution_count": 30,
      "outputs": [
        {
          "output_type": "execute_result",
          "data": {
            "text/plain": [
              "93.82"
            ]
          },
          "metadata": {},
          "execution_count": 30
        }
      ]
    }
  ]
}